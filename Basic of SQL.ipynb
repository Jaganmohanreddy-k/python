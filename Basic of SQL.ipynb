{
 "cells": [
  {
   "cell_type": "code",
   "execution_count": 1,
   "metadata": {},
   "outputs": [
    {
     "name": "stdout",
     "output_type": "stream",
     "text": [
      "CREATE TABLE employ(id integer PRIMARY KEY, name text, salary real,department text, position text, hireDate text)\n",
      "CREATE TABLE employe(id integer PRIMARY KEY, name text, salary real, department text, position text, hireDate text)\n"
     ]
    }
   ],
   "source": [
    "import sqlite3\n",
    "\n",
    "from sqlite3 import Error\n",
    " \n",
    "def sql_connection():\n",
    " \n",
    "    try:\n",
    " \n",
    "        con = sqlite3.connect('mydatabase123.db')\n",
    " \n",
    " "
   ]
  },
  {
   "cell_type": "code",
   "execution_count": 1,
   "metadata": {
    "scrolled": false
   },
   "outputs": [
    {
     "ename": "NameError",
     "evalue": "name 'entities0' is not defined",
     "output_type": "error",
     "traceback": [
      "\u001b[1;31m---------------------------------------------------------------------------\u001b[0m",
      "\u001b[1;31mNameError\u001b[0m                                 Traceback (most recent call last)",
      "\u001b[1;32m<ipython-input-1-f033f533b052>\u001b[0m in \u001b[0;36m<module>\u001b[1;34m\u001b[0m\n\u001b[0;32m     18\u001b[0m     \u001b[0mentities3\u001b[0m \u001b[1;33m=\u001b[0m \u001b[1;33m(\u001b[0m\u001b[1;36m5\u001b[0m\u001b[1;33m,\u001b[0m \u001b[1;34m'vinayaka'\u001b[0m\u001b[1;33m,\u001b[0m \u001b[1;36m800\u001b[0m\u001b[1;33m,\u001b[0m \u001b[1;34m'IWT'\u001b[0m\u001b[1;33m,\u001b[0m \u001b[1;34m'Tech'\u001b[0m\u001b[1;33m,\u001b[0m \u001b[1;34m'2020-02-06'\u001b[0m\u001b[1;33m)\u001b[0m\u001b[1;33m\u001b[0m\u001b[1;33m\u001b[0m\u001b[0m\n\u001b[0;32m     19\u001b[0m \u001b[1;33m\u001b[0m\u001b[0m\n\u001b[1;32m---> 20\u001b[1;33m \u001b[1;32mfor\u001b[0m \u001b[0mentities\u001b[0m \u001b[1;32min\u001b[0m \u001b[1;33m[\u001b[0m\u001b[0mentities0\u001b[0m\u001b[1;33m,\u001b[0m\u001b[0mentities1\u001b[0m\u001b[1;33m,\u001b[0m\u001b[0mentities2\u001b[0m\u001b[1;33m,\u001b[0m\u001b[0mentities3\u001b[0m\u001b[1;33m]\u001b[0m\u001b[1;33m:\u001b[0m\u001b[1;33m\u001b[0m\u001b[1;33m\u001b[0m\u001b[0m\n\u001b[0m\u001b[0;32m     21\u001b[0m     \u001b[0msql_insert\u001b[0m\u001b[1;33m(\u001b[0m\u001b[0mcon\u001b[0m\u001b[1;33m,\u001b[0m \u001b[0mentities\u001b[0m\u001b[1;33m)\u001b[0m\u001b[1;33m\u001b[0m\u001b[1;33m\u001b[0m\u001b[0m\n",
      "\u001b[1;31mNameError\u001b[0m: name 'entities0' is not defined"
     ]
    }
   ],
   "source": [
    "import sqlite3\n",
    " \n",
    "con = sqlite3.connect('mydatabase123.db')\n",
    " \n",
    "def sql_insert(con, entities):\n",
    " \n",
    "    cursorObj = con.cursor()\n",
    "    \n",
    "    cursorObj.execute('INSERT INTO employ(id, name, salary, department, position, hireDate) VALUES(?, ?, ?, ?, ?, ?)', entities)\n",
    "    \n",
    "    con.commit()\n",
    " \n",
    "    entities0 = (2, 'Andrew', 800, 'IT', 'Tech', '2020-02-06')\n",
    "\n",
    "    entities1 = (3, 'jagan', 800, 'ITI', 'Tech', '2020-02-06')\n",
    "    entities2 = (4, 'anand', 800, 'IIT', 'Tech', '2020-02-06')\n",
    " \n",
    "    entities3 = (5, 'vinayaka', 800, 'IWT', 'Tech', '2020-02-06')\n",
    "\n",
    "for entities in [entities0,entities1,entities2,entities3]:\n",
    "    sql_insert(con, entities)"
   ]
  },
  {
   "cell_type": "code",
   "execution_count": 3,
   "metadata": {},
   "outputs": [],
   "source": [
    "cursorObj = con.cursor()"
   ]
  },
  {
   "cell_type": "code",
   "execution_count": 6,
   "metadata": {},
   "outputs": [],
   "source": [
    "names = list(cursorObj.execute('SELECT name from employ'))"
   ]
  },
  {
   "cell_type": "code",
   "execution_count": 8,
   "metadata": {},
   "outputs": [
    {
     "data": {
      "text/plain": [
       "('Andrew',)"
      ]
     },
     "execution_count": 8,
     "metadata": {},
     "output_type": "execute_result"
    }
   ],
   "source": [
    "names"
   ]
  },
  {
   "cell_type": "code",
   "execution_count": null,
   "metadata": {},
   "outputs": [],
   "source": [
    "input = input()\n"
   ]
  },
  {
   "cell_type": "code",
   "execution_count": null,
   "metadata": {},
   "outputs": [],
   "source": [
    "import sqlite3\n",
    " \n",
    "con = sqlite3.connect('jagan.db')\n",
    " \n",
    "def sql_insert(con, entities):\n",
    " \n",
    "    cursorObj = con.cursor()\n",
    "    \n",
    "    cursorObj.execute('INSERT INTO employe(id, name, salary, department, position, hireDate) VALUES(?, ?, ?, ?, ?, ?)', entities)\n",
    "    \n",
    "    con.commit()\n",
    " \n",
    "    entities10 = (2, 'Andrew', 800, 'IT', 'Tech', '2018-02-06')\n",
    "\n",
    "    entities1 = (3, 'jagan', 800, 'ITI', 'Tech', '2018-02-06')\n",
    " \n",
    "    entities2 = (4, 'anand', 800, 'IIT', 'Tech', '2018-02-06')\n",
    " \n",
    "    entities3 = (5, 'vinayak', 800, 'IWT', 'Tech', '2018-02-06')\n",
    "\n",
    "for entities in [entities0,entities1,entities2,entities3]:\n",
    "    sql_insert(con, entities)"
   ]
  }
 ],
 "metadata": {
  "kernelspec": {
   "display_name": "Python 3",
   "language": "python",
   "name": "python3"
  },
  "language_info": {
   "codemirror_mode": {
    "name": "ipython",
    "version": 3
   },
   "file_extension": ".py",
   "mimetype": "text/x-python",
   "name": "python",
   "nbconvert_exporter": "python",
   "pygments_lexer": "ipython3",
   "version": "3.7.3"
  }
 },
 "nbformat": 4,
 "nbformat_minor": 2
}
