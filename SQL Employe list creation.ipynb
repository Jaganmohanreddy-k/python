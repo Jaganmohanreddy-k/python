{
 "cells": [
  {
   "cell_type": "code",
   "execution_count": 5,
   "metadata": {},
   "outputs": [
    {
     "ename": "NameError",
     "evalue": "name 'entities1' is not defined",
     "output_type": "error",
     "traceback": [
      "\u001b[1;31m---------------------------------------------------------------------------\u001b[0m",
      "\u001b[1;31mNameError\u001b[0m                                 Traceback (most recent call last)",
      "\u001b[1;32m<ipython-input-5-daa8bdf5c415>\u001b[0m in \u001b[0;36m<module>\u001b[1;34m\u001b[0m\n\u001b[0;32m     19\u001b[0m     \u001b[0mentities4\u001b[0m \u001b[1;33m=\u001b[0m \u001b[1;33m(\u001b[0m\u001b[1;36m15057\u001b[0m\u001b[1;33m,\u001b[0m \u001b[1;34m'saikumar'\u001b[0m\u001b[1;33m,\u001b[0m \u001b[1;36m19000\u001b[0m\u001b[1;33m,\u001b[0m \u001b[1;34m'eee'\u001b[0m\u001b[1;33m,\u001b[0m \u001b[1;34m'govt'\u001b[0m\u001b[1;33m,\u001b[0m \u001b[1;34m'2020-02-06'\u001b[0m\u001b[1;33m)\u001b[0m\u001b[1;33m\u001b[0m\u001b[1;33m\u001b[0m\u001b[0m\n\u001b[0;32m     20\u001b[0m \u001b[1;33m\u001b[0m\u001b[0m\n\u001b[1;32m---> 21\u001b[1;33m \u001b[1;32mfor\u001b[0m \u001b[0mentities\u001b[0m \u001b[1;32min\u001b[0m \u001b[1;33m[\u001b[0m\u001b[0mentities1\u001b[0m\u001b[1;33m,\u001b[0m\u001b[0mentities2\u001b[0m\u001b[1;33m,\u001b[0m\u001b[0mentities3\u001b[0m\u001b[1;33m,\u001b[0m\u001b[0mentities4\u001b[0m\u001b[1;33m]\u001b[0m\u001b[1;33m:\u001b[0m\u001b[1;33m\u001b[0m\u001b[1;33m\u001b[0m\u001b[0m\n\u001b[0m\u001b[0;32m     22\u001b[0m     \u001b[0msql_insert\u001b[0m\u001b[1;33m(\u001b[0m\u001b[0mcon\u001b[0m\u001b[1;33m,\u001b[0m \u001b[0mentities\u001b[0m\u001b[1;33m)\u001b[0m\u001b[1;33m\u001b[0m\u001b[1;33m\u001b[0m\u001b[0m\n",
      "\u001b[1;31mNameError\u001b[0m: name 'entities1' is not defined"
     ]
    }
   ],
   "source": [
    "import sqlite3\n",
    " \n",
    "con = sqlite3.connect('jagan.db')\n",
    " \n",
    "def sql_insert(con, entities):\n",
    " \n",
    "    cursorObj = con.cursor()\n",
    "    \n",
    "    cursorObj.execute('INSERT INTO employe(id, name, salary, department, position, hireDate) VALUES(?, ?, ?, ?, ?, ?)', entities)\n",
    "    \n",
    "    con.commit()\n",
    " \n",
    "    entities1 = ( 15022,'jaganmohan', 25000, 'IT', 'Tech', '2020-02-06')\n",
    "\n",
    "    entities2 = (15030, 'kashyap', 24500, 'eee', 'govt', '2020-02-06')\n",
    " \n",
    "    entities3 = (15038, 'praneeth', 30000, 'IT', 'Tech', '2020-02-06')\n",
    " \n",
    "    entities4 = (15057, 'saikumar', 19000, 'eee', 'govt', '2020-02-06')\n",
    "\n",
    "for entities in [entities1,entities2,entities3,entities4]:\n",
    "    sql_insert(con, entities)"
   ]
  },
  {
   "cell_type": "code",
   "execution_count": null,
   "metadata": {},
   "outputs": [],
   "source": []
  },
  {
   "cell_type": "code",
   "execution_count": null,
   "metadata": {},
   "outputs": [],
   "source": []
  }
 ],
 "metadata": {
  "kernelspec": {
   "display_name": "Python 3",
   "language": "python",
   "name": "python3"
  },
  "language_info": {
   "codemirror_mode": {
    "name": "ipython",
    "version": 3
   },
   "file_extension": ".py",
   "mimetype": "text/x-python",
   "name": "python",
   "nbconvert_exporter": "python",
   "pygments_lexer": "ipython3",
   "version": "3.7.3"
  }
 },
 "nbformat": 4,
 "nbformat_minor": 2
}
