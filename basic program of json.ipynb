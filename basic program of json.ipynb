{
 "cells": [
  {
   "cell_type": "code",
   "execution_count": 1,
   "metadata": {},
   "outputs": [
    {
     "ename": "SyntaxError",
     "evalue": "EOL while scanning string literal (<ipython-input-1-699b64d4abff>, line 6)",
     "output_type": "error",
     "traceback": [
      "\u001b[1;36m  File \u001b[1;32m\"<ipython-input-1-699b64d4abff>\"\u001b[1;36m, line \u001b[1;32m6\u001b[0m\n\u001b[1;33m    apikey='3e95d94278ada3f6cb8152fed3b84f4f\u001b[0m\n\u001b[1;37m                                            ^\u001b[0m\n\u001b[1;31mSyntaxError\u001b[0m\u001b[1;31m:\u001b[0m EOL while scanning string literal\n"
     ]
    }
   ],
   "source": [
    "import json\n",
    "import requests\n",
    "import time\n",
    "i=0\n",
    "city=\"hyderabab,IN\"\n",
    "apikey='3e95d94278ada3f6cb8152fed3b84f4f\n",
    "'\n",
    "print(\"date , temperature, humidity, wind_speed, wind_direction\")\n",
    "while (i!=30):\n",
    "    r=requests.get(f'http://api.openweathermap.org/data/2.5/weather?q={city}&appid={apikey}')\n",
    "    weather_report=json.loads(r.content)\n",
    "    a=(str((weather_report['dt'],round(weather_report['main']['temp']-237.12,2),weather_report['main']['humidity'],weather_report['wind']['speed'],weather_report['wind']['deg'])))\n",
    "    with open(\"user4.txt\", 'a')as fb:\n",
    "        fb.writelines(a)\n",
    "        fb.write(\"\\n\")\n",
    "    i+=1\n",
    "    time.sleep(120)\n",
    "\n",
    "\n",
    "\n"
   ]
  },
  {
   "cell_type": "code",
   "execution_count": null,
   "metadata": {},
   "outputs": [],
   "source": []
  },
  {
   "cell_type": "code",
   "execution_count": null,
   "metadata": {},
   "outputs": [],
   "source": []
  }
 ],
 "metadata": {
  "kernelspec": {
   "display_name": "Python 3",
   "language": "python",
   "name": "python3"
  },
  "language_info": {
   "codemirror_mode": {
    "name": "ipython",
    "version": 3
   },
   "file_extension": ".py",
   "mimetype": "text/x-python",
   "name": "python",
   "nbconvert_exporter": "python",
   "pygments_lexer": "ipython3",
   "version": "3.7.3"
  }
 },
 "nbformat": 4,
 "nbformat_minor": 2
}
