{
 "cells": [
  {
   "cell_type": "code",
   "execution_count": 46,
   "metadata": {},
   "outputs": [
    {
     "name": "stdout",
     "output_type": "stream",
     "text": [
      "0\n",
      "1\n",
      "2\n",
      "3\n",
      "4\n",
      "5\n",
      "6\n",
      "7\n",
      "8\n",
      "9\n",
      "10\n",
      "11\n",
      "12\n",
      "13\n",
      "14\n",
      "15\n",
      "16\n",
      "17\n",
      "18\n",
      "19\n",
      "20\n",
      "21\n",
      "22\n",
      "23\n",
      "24\n",
      "25\n",
      "26\n",
      "27\n",
      "28\n",
      "29\n",
      "30\n",
      "31\n",
      "32\n",
      "33\n",
      "34\n",
      "35\n",
      "36\n",
      "37\n",
      "38\n",
      "39\n",
      "40\n",
      "41\n",
      "42\n",
      "43\n",
      "44\n",
      "45\n",
      "46\n",
      "47\n",
      "48\n",
      "49\n",
      "50\n",
      "51\n",
      "52\n",
      "53\n",
      "54\n",
      "55\n",
      "56\n",
      "57\n",
      "58\n",
      "59\n",
      "60\n",
      "61\n",
      "62\n",
      "63\n",
      "64\n",
      "65\n",
      "66\n",
      "67\n",
      "68\n",
      "69\n",
      "70\n",
      "71\n",
      "72\n",
      "73\n",
      "74\n",
      "75\n",
      "76\n",
      "77\n",
      "78\n",
      "79\n",
      "80\n",
      "81\n",
      "82\n",
      "83\n",
      "84\n",
      "85\n",
      "86\n",
      "87\n",
      "88\n",
      "89\n",
      "90\n",
      "91\n",
      "92\n",
      "93\n",
      "94\n",
      "95\n",
      "96\n",
      "97\n",
      "98\n",
      "99\n",
      "100\n",
      "101\n",
      "102\n",
      "103\n",
      "104\n",
      "105\n",
      "106\n",
      "107\n",
      "108\n",
      "109\n",
      "110\n",
      "111\n",
      "112\n",
      "113\n",
      "114\n",
      "115\n",
      "116\n",
      "117\n",
      "118\n",
      "119\n",
      "120\n",
      "121\n",
      "122\n",
      "123\n",
      "124\n",
      "125\n",
      "126\n",
      "127\n",
      "128\n",
      "129\n",
      "130\n",
      "131\n",
      "132\n",
      "133\n",
      "134\n",
      "135\n",
      "136\n",
      "137\n",
      "138\n",
      "139\n",
      "140\n",
      "141\n",
      "142\n",
      "143\n",
      "144\n",
      "145\n",
      "146\n",
      "147\n"
     ]
    }
   ],
   "source": [
    "for i in range (0,148):\n",
    "    print(i)\n",
    "    "
   ]
  },
  {
   "cell_type": "code",
   "execution_count": 44,
   "metadata": {},
   "outputs": [
    {
     "ename": "SyntaxError",
     "evalue": "unexpected character after line continuation character (<ipython-input-44-bbd50ea60d1e>, line 2)",
     "output_type": "error",
     "traceback": [
      "\u001b[1;36m  File \u001b[1;32m\"<ipython-input-44-bbd50ea60d1e>\"\u001b[1;36m, line \u001b[1;32m2\u001b[0m\n\u001b[1;33m    x=jagan[0:6]\\n\u001b[0m\n\u001b[1;37m                  ^\u001b[0m\n\u001b[1;31mSyntaxError\u001b[0m\u001b[1;31m:\u001b[0m unexpected character after line continuation character\n"
     ]
    }
   ],
   "source": [
    "jagan=\"we win\"\n",
    "x=jagan[0:6]\n",
    "print(x)"
   ]
  },
  {
   "cell_type": "code",
   "execution_count": 17,
   "metadata": {},
   "outputs": [
    {
     "ename": "SyntaxError",
     "evalue": "unexpected character after line continuation character (<ipython-input-17-ad416f876c47>, line 1)",
     "output_type": "error",
     "traceback": [
      "\u001b[1;36m  File \u001b[1;32m\"<ipython-input-17-ad416f876c47>\"\u001b[1;36m, line \u001b[1;32m1\u001b[0m\n\u001b[1;33m    print(jagan\\n)\u001b[0m\n\u001b[1;37m                  ^\u001b[0m\n\u001b[1;31mSyntaxError\u001b[0m\u001b[1;31m:\u001b[0m unexpected character after line continuation character\n"
     ]
    }
   ],
   "source": [
    "print(jagan\\n)"
   ]
  },
  {
   "cell_type": "code",
   "execution_count": 1,
   "metadata": {},
   "outputs": [
    {
     "name": "stdout",
     "output_type": "stream",
     "text": [
      "zyxwvutsrqponmlkjihgfedcb\n"
     ]
    }
   ],
   "source": [
    "letters=\"abcdefghijklmnopqrstuvwxyz\"\n",
    "backwords=letters[25:0:-1]\n",
    "print(backwords)"
   ]
  },
  {
   "cell_type": "code",
   "execution_count": 2,
   "metadata": {},
   "outputs": [
    {
     "name": "stdout",
     "output_type": "stream",
     "text": [
      "zyxwvutsrqponmlkjihgfedcba\n"
     ]
    }
   ],
   "source": [
    "print(letters[::-1])"
   ]
  },
  {
   "cell_type": "code",
   "execution_count": 6,
   "metadata": {},
   "outputs": [
    {
     "name": "stdout",
     "output_type": "stream",
     "text": [
      "qpo\n"
     ]
    }
   ],
   "source": [
    "print(letters[-10:-13:-1])"
   ]
  },
  {
   "cell_type": "code",
   "execution_count": 22,
   "metadata": {},
   "outputs": [
    {
     "name": "stdout",
     "output_type": "stream",
     "text": [
      "edcba\n"
     ]
    }
   ],
   "source": [
    "print(letters[4::-1])"
   ]
  },
  {
   "cell_type": "code",
   "execution_count": 20,
   "metadata": {},
   "outputs": [
    {
     "name": "stdout",
     "output_type": "stream",
     "text": [
      "stuvwxyz\n"
     ]
    }
   ],
   "source": [
    "print(letters[-8:26])"
   ]
  },
  {
   "cell_type": "code",
   "execution_count": 35,
   "metadata": {},
   "outputs": [
    {
     "name": "stdout",
     "output_type": "stream",
     "text": [
      "my age is 24 years\n"
     ]
    }
   ],
   "source": [
    "age=24\n",
    "print(f\"my age is {age} years\")"
   ]
  },
  {
   "cell_type": "code",
   "execution_count": 6,
   "metadata": {},
   "outputs": [
    {
     "name": "stdout",
     "output_type": "stream",
     "text": [
      "no. 1squared is 2and cubed is 1\n",
      "********************************************************************************\n",
      "no. 2squared is 4and cubed is 8\n",
      "********************************************************************************\n",
      "no. 3squared is 6and cubed is 27\n",
      "********************************************************************************\n",
      "no. 4squared is 8and cubed is 64\n",
      "********************************************************************************\n",
      "no. 5squared is 10and cubed is 125\n",
      "********************************************************************************\n",
      "no. 6squared is 12and cubed is 216\n",
      "********************************************************************************\n",
      "no. 7squared is 14and cubed is 343\n",
      "********************************************************************************\n",
      "no. 8squared is 16and cubed is 512\n",
      "********************************************************************************\n",
      "no. 9squared is 18and cubed is 729\n",
      "********************************************************************************\n",
      "no. 10squared is 20and cubed is 1000\n",
      "********************************************************************************\n",
      "no. 11squared is 22and cubed is 1331\n",
      "********************************************************************************\n",
      "no. 12squared is 24and cubed is 1728\n",
      "********************************************************************************\n",
      "no. 13squared is 26and cubed is 2197\n",
      "********************************************************************************\n",
      "no. 14squared is 28and cubed is 2744\n",
      "********************************************************************************\n",
      "no. 15squared is 30and cubed is 3375\n",
      "********************************************************************************\n",
      "no. 16squared is 32and cubed is 4096\n",
      "********************************************************************************\n",
      "no. 17squared is 34and cubed is 4913\n",
      "********************************************************************************\n",
      "no. 18squared is 36and cubed is 5832\n",
      "********************************************************************************\n",
      "no. 19squared is 38and cubed is 6859\n",
      "********************************************************************************\n",
      "no. 20squared is 40and cubed is 8000\n",
      "********************************************************************************\n",
      "no. 21squared is 42and cubed is 9261\n",
      "********************************************************************************\n",
      "no. 22squared is 44and cubed is 10648\n",
      "********************************************************************************\n",
      "no. 23squared is 46and cubed is 12167\n",
      "********************************************************************************\n",
      "no. 24squared is 48and cubed is 13824\n",
      "********************************************************************************\n",
      "no. 25squared is 50and cubed is 15625\n",
      "********************************************************************************\n",
      "no. 26squared is 52and cubed is 17576\n",
      "********************************************************************************\n",
      "no. 27squared is 54and cubed is 19683\n",
      "********************************************************************************\n",
      "no. 28squared is 56and cubed is 21952\n",
      "********************************************************************************\n",
      "no. 29squared is 58and cubed is 24389\n",
      "********************************************************************************\n",
      "no. 30squared is 60and cubed is 27000\n",
      "********************************************************************************\n",
      "no. 31squared is 62and cubed is 29791\n",
      "********************************************************************************\n",
      "no. 32squared is 64and cubed is 32768\n",
      "********************************************************************************\n",
      "no. 33squared is 66and cubed is 35937\n",
      "********************************************************************************\n",
      "no. 34squared is 68and cubed is 39304\n",
      "********************************************************************************\n",
      "no. 35squared is 70and cubed is 42875\n",
      "********************************************************************************\n",
      "no. 36squared is 72and cubed is 46656\n",
      "********************************************************************************\n",
      "no. 37squared is 74and cubed is 50653\n",
      "********************************************************************************\n",
      "no. 38squared is 76and cubed is 54872\n",
      "********************************************************************************\n",
      "no. 39squared is 78and cubed is 59319\n",
      "********************************************************************************\n",
      "no. 40squared is 80and cubed is 64000\n",
      "********************************************************************************\n",
      "no. 41squared is 82and cubed is 68921\n",
      "********************************************************************************\n",
      "no. 42squared is 84and cubed is 74088\n",
      "********************************************************************************\n",
      "no. 43squared is 86and cubed is 79507\n",
      "********************************************************************************\n",
      "no. 44squared is 88and cubed is 85184\n",
      "********************************************************************************\n",
      "no. 45squared is 90and cubed is 91125\n",
      "********************************************************************************\n",
      "no. 46squared is 92and cubed is 97336\n",
      "********************************************************************************\n",
      "no. 47squared is 94and cubed is 103823\n",
      "********************************************************************************\n",
      "no. 48squared is 96and cubed is 110592\n",
      "********************************************************************************\n",
      "no. 49squared is 98and cubed is 117649\n",
      "********************************************************************************\n"
     ]
    }
   ],
   "source": [
    "for i in range (1,50):print(\"no. {0}squared is {1}and cubed is {2}\".format(i, i*2,i**3));print(\"*\"*80)\n",
    "    "
   ]
  },
  {
   "cell_type": "code",
   "execution_count": 14,
   "metadata": {},
   "outputs": [
    {
     "name": "stdout",
     "output_type": "stream",
     "text": [
      "enter ur name:jmr\n",
      "how old are u,jmr11\n",
      "11\n",
      "minor11\n"
     ]
    }
   ],
   "source": [
    "name=input(\"enter ur name:\")\n",
    "age=input(\"how old are u,{0}\".format(name))\n",
    "print(age)\n",
    "if int(age) >= 18:\n",
    "    print(\"major\")\n",
    "else:\n",
    "    print(\"minor{0}\".format(age))"
   ]
  },
  {
   "cell_type": "code",
   "execution_count": null,
   "metadata": {},
   "outputs": [],
   "source": []
  }
 ],
 "metadata": {
  "kernelspec": {
   "display_name": "Python 3",
   "language": "python",
   "name": "python3"
  },
  "language_info": {
   "codemirror_mode": {
    "name": "ipython",
    "version": 3
   },
   "file_extension": ".py",
   "mimetype": "text/x-python",
   "name": "python",
   "nbconvert_exporter": "python",
   "pygments_lexer": "ipython3",
   "version": "3.7.3"
  }
 },
 "nbformat": 4,
 "nbformat_minor": 2
}
