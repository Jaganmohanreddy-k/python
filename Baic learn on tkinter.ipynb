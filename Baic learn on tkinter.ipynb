{
 "cells": [
  {
   "cell_type": "code",
   "execution_count": 1,
   "metadata": {},
   "outputs": [],
   "source": [
    "from tkinter import *\n",
    "window=Tk()\n",
    "# add widgets here\n",
    "\n",
    "window.title('Hello Python')\n",
    "window.geometry(\"300x200\")\n",
    "window.mainloop()\n"
   ]
  },
  {
   "cell_type": "code",
   "execution_count": 2,
   "metadata": {},
   "outputs": [],
   "source": [
    "from tkinter import *\n",
    "window=Tk()\n",
    "btn=Button(window, text=\"This is Button widget\", fg='blue')\n",
    "btn.place(x=0, y=100)\n",
    "window.title('Hello Python')\n",
    "window.geometry(\"500x200+10+10\")\n",
    "window.mainloop()\n"
   ]
  },
  {
   "cell_type": "code",
   "execution_count": 9,
   "metadata": {},
   "outputs": [],
   "source": [
    "from tkinter import *\n",
    "#import datetime\n",
    "window=Tk()\n",
    "lbl=Label(window, text=\"This is Label widget\", fg='red', font=(\"Helvetica\", 16))\n",
    "lbl.place(x=60, y=50)\n",
    "window.title('Hello Python')\n",
    "window.geometry(\"500x200+10+10\")\n",
    "window.mainloop()"
   ]
  },
  {
   "cell_type": "code",
   "execution_count": 14,
   "metadata": {},
   "outputs": [],
   "source": [
    "from tkinter import *\n",
    "window=Tk()\n",
    "jmr=Button(window, text=\"This is Button widget\", fg='blue')\n",
    "jmr.place(x=80, y=100)\n",
    "lbl=Label(window, text=\"This is Label widget\", fg='red', font=(\"Helvetica\", 16))\n",
    "lbl.place(x=60, y=50)\n",
    "txtfld=Entry(window, text=\"This is Entry Widget\",bd = 1)\n",
    "txtfld.place(x=80, y=150)\n",
    "window.title('Hello Python')\n",
    "window.geometry(\"300x200+10+10\")\n",
    "window.mainloop()"
   ]
  },
  {
   "cell_type": "code",
   "execution_count": null,
   "metadata": {},
   "outputs": [],
   "source": []
  }
 ],
 "metadata": {
  "kernelspec": {
   "display_name": "Python 3",
   "language": "python",
   "name": "python3"
  },
  "language_info": {
   "codemirror_mode": {
    "name": "ipython",
    "version": 3
   },
   "file_extension": ".py",
   "mimetype": "text/x-python",
   "name": "python",
   "nbconvert_exporter": "python",
   "pygments_lexer": "ipython3",
   "version": "3.7.3"
  }
 },
 "nbformat": 4,
 "nbformat_minor": 2
}
